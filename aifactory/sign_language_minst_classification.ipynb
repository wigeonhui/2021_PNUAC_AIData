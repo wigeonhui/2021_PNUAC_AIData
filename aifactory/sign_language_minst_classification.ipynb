{
  "nbformat": 4,
  "nbformat_minor": 0,
  "metadata": {
    "accelerator": "GPU",
    "colab": {
      "name": "sign_language_minst_classification",
      "provenance": [],
      "collapsed_sections": [],
      "include_colab_link": true
    },
    "kernelspec": {
      "display_name": "Python 3",
      "language": "python",
      "name": "python3"
    },
    "language_info": {
      "codemirror_mode": {
        "name": "ipython",
        "version": 3
      },
      "file_extension": ".py",
      "mimetype": "text/x-python",
      "name": "python",
      "nbconvert_exporter": "python",
      "pygments_lexer": "ipython3",
      "version": "3.6.10"
    }
  },
  "cells": [
    {
      "cell_type": "markdown",
      "metadata": {
        "id": "view-in-github",
        "colab_type": "text"
      },
      "source": [
        "<a href=\"https://colab.research.google.com/github/wigeonhui/2021_PNUAC_AIData/blob/main/aifactory/sign_language_minst_classification.ipynb\" target=\"_parent\"><img src=\"https://colab.research.google.com/assets/colab-badge.svg\" alt=\"Open In Colab\"/></a>"
      ]
    },
    {
      "cell_type": "markdown",
      "metadata": {
        "id": "L3eSKOAdn7Uw"
      },
      "source": [
        "필요한 패키지를 가져옵니다."
      ]
    },
    {
      "cell_type": "markdown",
      "metadata": {
        "id": "7sC-LwqvtM1q"
      },
      "source": [
        "알파벳 수화에 대해 배워봅시다. 사전 지식이 없다고 가정할 때, 사람은 어떻게 배우는 지, 그리고 학습한 것을 어떻게 평가할 것인지도 알아봅니다. "
      ]
    },
    {
      "cell_type": "code",
      "metadata": {
        "id": "-XAyceMYvow8"
      },
      "source": [
        "import numpy as np\n",
        "import matplotlib.pyplot as plt\n",
        "\n",
        "from tensorflow.keras.models import Sequential, load_model\n",
        "from tensorflow.keras.layers import Dense\n",
        "from tensorflow.keras.callbacks import ModelCheckpoint\n",
        "from tensorflow.keras.utils import plot_model, to_categorical"
      ],
      "execution_count": 1,
      "outputs": []
    },
    {
      "cell_type": "markdown",
      "metadata": {
        "id": "hRfuOMk0n7Uw"
      },
      "source": [
        "먼저 알파벳 수화 이미지 데이터셋을 아래 페이지에서 다운로드 받습니다. \n",
        "\n",
        "http://aifactory.space/aifactory/taskData/detail.do?task.taskId=T002056\n",
        "\n",
        "그 다음 다운로드 받은 파일을 구글 코랩 서버에 업로드한 뒤 불러옵니다."
      ]
    },
    {
      "cell_type": "code",
      "metadata": {
        "colab": {
          "base_uri": "https://localhost:8080/"
        },
        "id": "nKPyUcYouz_8",
        "outputId": "5289149d-a977-43fa-93ce-5a6ee0f8f472"
      },
      "source": [
        "dataset = np.load('sign_mnist.npz')\n",
        "x_train, y_train = dataset['x_train'], dataset['y_train']\n",
        "x_test, y_test = dataset['x_test'], dataset['y_test']\n",
        "\n",
        "print('x_train shape : ' + str(x_train.shape))\n",
        "print('y_train shape : ' + str(y_train.shape))\n",
        "print('x_test shape : ' + str(x_test.shape))\n",
        "print('y_test shape : ' + str(y_test.shape))"
      ],
      "execution_count": 7,
      "outputs": [
        {
          "output_type": "stream",
          "text": [
            "x_train shape : (27455, 28, 28)\n",
            "y_train shape : (27455,)\n",
            "x_test shape : (7172, 28, 28)\n",
            "y_test shape : (7172,)\n"
          ],
          "name": "stdout"
        }
      ]
    },
    {
      "cell_type": "markdown",
      "metadata": {
        "id": "1MRgyIo7VDTm"
      },
      "source": [
        "테스트할 샘플 하나를 살펴봅니다."
      ]
    },
    {
      "cell_type": "code",
      "metadata": {
        "colab": {
          "base_uri": "https://localhost:8080/",
          "height": 391
        },
        "id": "M5dzhF1mVHpX",
        "outputId": "81d2545e-92c5-4ad9-be0d-39c52713d801"
      },
      "source": [
        "plt.imshow(x_test[0], cmap='gray')"
      ],
      "execution_count": 8,
      "outputs": [
        {
          "output_type": "execute_result",
          "data": {
            "text/plain": [
              "<matplotlib.image.AxesImage at 0x7fc1a3b2a790>"
            ]
          },
          "metadata": {
            "tags": []
          },
          "execution_count": 8
        },
        {
          "output_type": "stream",
          "text": [
            "Exception ignored in: <function NpzFile.__del__ at 0x7fc1fd7f0d40>\n",
            "Traceback (most recent call last):\n",
            "  File \"/usr/local/lib/python3.7/dist-packages/numpy/lib/npyio.py\", line 223, in __del__\n",
            "    self.close()\n",
            "  File \"/usr/local/lib/python3.7/dist-packages/numpy/lib/npyio.py\", line 214, in close\n",
            "    if self.zip is not None:\n",
            "AttributeError: 'NpzFile' object has no attribute 'zip'\n"
          ],
          "name": "stderr"
        },
        {
          "output_type": "display_data",
          "data": {
            "image/png": "[encoded data removed]",
            "text/plain": [
              "<Figure size 432x288 with 1 Axes>"
            ]
          },
          "metadata": {
            "tags": [],
            "needs_background": "light"
          }
        }
      ]
    },
    {
      "cell_type": "markdown",
      "metadata": {
        "id": "59TzdRYXai74"
      },
      "source": [
        "인공지능 모델이 이 이미지를 입력받았을 때, 해당하는 알파벳을 출력할 수 있도록 만드는 것이 목표입니다. 우리는 y_test 라벨값도 가지고 있어서 바로 확인은 할 수 있으나, 모델 학습 시에는 사용이 되지 않으며, 시험 평가할 때만 사용됩니다."
      ]
    },
    {
      "cell_type": "code",
      "metadata": {
        "colab": {
          "base_uri": "https://localhost:8080/"
        },
        "id": "pfFSxqevajVW",
        "outputId": "63ca6acf-0693-4c78-a1bf-76e6a3082230"
      },
      "source": [
        "print(y_test[0])"
      ],
      "execution_count": 9,
      "outputs": [
        {
          "output_type": "stream",
          "text": [
            "6\n"
          ],
          "name": "stdout"
        }
      ]
    },
    {
      "cell_type": "markdown",
      "metadata": {
        "id": "GMiJUbcHn7Ux"
      },
      "source": [
        "모델 학습에 용이하도록 다음과 같이 데이터 전처리를 수행합니다.\n",
        "\n",
        "*   데이터 전처리\n",
        "    * 3차원(샘플수, 세로, 가로)를 2차원(샘플수, 벡터수)으로 변경\n",
        "    * 정수를 실수로 변경\n",
        "    * 0 ~ 255 사이의 수치를 0.0 ~ 1.0 사이로 정규화 수행\n",
        "*   라벨 전처리\n",
        "    * 0 ~ 9 라벨에 대한 원핫인코딩 수행 \n",
        "\n"
      ]
    },
    {
      "cell_type": "code",
      "metadata": {
        "id": "-Tq2r8mKB9RC"
      },
      "source": [
        "x_train = x_train.reshape(27455, 784).astype('float32') / 255.0\n",
        "x_test = x_test.reshape(7172, 784).astype('float32') / 255.0\n",
        "y_train = to_categorical(y_train)\n",
        "y_test = to_categorical(y_test)"
      ],
      "execution_count": 10,
      "outputs": []
    },
    {
      "cell_type": "markdown",
      "metadata": {
        "id": "WQ6ok1F3n7Ux"
      },
      "source": [
        "모델은 다음과 같이 구성하였습니다.\n",
        "\n",
        "* 입력: 1차원의 784개 벡터\n",
        "* 출력: 10개 벡터\n",
        "* 출력층의 활성화 함수: 소프트맥스\n",
        "* 손실함수: categorical_crossentropy\n",
        "* 최적화기: adam\n",
        "* 평가 메트릭: accuracy\n"
      ]
    },
    {
      "cell_type": "code",
      "metadata": {
        "id": "CfRck8LMt3qk",
        "colab": {
          "base_uri": "https://localhost:8080/"
        },
        "outputId": "6f08dc9e-467c-470d-8d2c-de7beef82051"
      },
      "source": [
        "y_train.shape"
      ],
      "execution_count": 11,
      "outputs": [
        {
          "output_type": "execute_result",
          "data": {
            "text/plain": [
              "(27455, 25)"
            ]
          },
          "metadata": {
            "tags": []
          },
          "execution_count": 11
        }
      ]
    },
    {
      "cell_type": "code",
      "metadata": {
        "id": "_SXTk3Twv9Qc"
      },
      "source": [
        "model = Sequential([\n",
        "    Dense(64, input_dim=28*28, activation='relu'), \n",
        "    Dense(32, activation='relu'), \n",
        "    Dense(25, activation='softmax')\n",
        "])\n",
        "\n",
        "model.compile(loss='categorical_crossentropy', optimizer='adam', metrics=['accuracy'])"
      ],
      "execution_count": 13,
      "outputs": []
    },
    {
      "cell_type": "markdown",
      "metadata": {
        "id": "7C7XabvDn7Ux"
      },
      "source": [
        "모델 네트워크 아키텍처 구성을 그려보겠습니다."
      ]
    },
    {
      "cell_type": "code",
      "metadata": {
        "colab": {
          "base_uri": "https://localhost:8080/",
          "height": 422
        },
        "id": "xFLTw6eln7Ux",
        "outputId": "6cf2e311-063d-4912-ccbd-26fa0ef959e3"
      },
      "source": [
        "plot_model(model, show_shapes=True)"
      ],
      "execution_count": 14,
      "outputs": [
        {
          "output_type": "execute_result",
          "data": {
            "image/png": "[encoded data removed]",
            "text/plain": [
              "<IPython.core.display.Image object>"
            ]
          },
          "metadata": {
            "tags": []
          },
          "execution_count": 14
        }
      ]
    },
    {
      "cell_type": "markdown",
      "metadata": {
        "id": "iH75hSGrn7Ux"
      },
      "source": [
        "모델을 학습시킬 때, validation_split 옵션을 두면 훈련셋 일부를 검증셋으로 설정할 수 있습니다. 0.2로 설정할 경우, 전체 훈련셋에서 20%를 검증셋, 나머지를 훈련셋으로 구성하여 학습합니다."
      ]
    },
    {
      "cell_type": "markdown",
      "metadata": {
        "id": "FT4_DoFRUznI"
      },
      "source": [
        "학습 시 매 에포크에 해당하는 훈련셋과 검증셋에 대한 손실값과 평가 메트릭 수치를 확인할 수 있습니다. 이를 시각화시키면 오버피팅 여부를 한 눈에 확인할 수 있습니다."
      ]
    },
    {
      "cell_type": "markdown",
      "metadata": {
        "id": "jCAQ09u9W09V"
      },
      "source": [
        "오버피팅이 10 에포크 이전에 발생했더라도 100 에포크까지 학습을 시켰으므로 현재 모델은 오버피팅이 되어 있는 상태입니다. 오버피팅이 되지 않은 모델을 확보하기 위해는 아래 세 가지 방법을 사용할 수 있습니다. \n",
        "\n",
        "1. 오버피팅이 되는 에포크를 확인하였다면, 오버피팅 전의 에포크 만큼 모델을 학습시킵니다.\n",
        "2. 콜백함수를 사용하여, 오버피팅이 감지되면 조기 중단을 시키도록 합니다.\n",
        "3. 콜백함수를 사용하여, 매 에포크마다 검증셋의 손실값을 체크한 후, 이전 손실값보다 낮은 경우 모델을 파일로 저장합니다. 즉 학습 종료가 되면, 파일에 저장된 모델은 손실값이 가장 낮을 때의 가중치를 가지고 있습니다.\n",
        "\n",
        "1번 방법은 두 번 학습을 시켜야하고, 2번 방법은 더 학습이 가능했음에도 설정된 오버피팅 감지 조건에 의해 조기 중단이 될 수도 있으므로, 이후 실습에서는 주로 3번 방법을 사용하도록 하겠습니다.\n",
        "\n",
        "모델 정의부터 컴파일, 콜백함수 정의, 모델 학습까지의 코드는 아래와 같습니다. 다음부터는 두 번 학습할 필요없이 아래 코드로 한 번만 수행합니다."
      ]
    },
    {
      "cell_type": "code",
      "metadata": {
        "colab": {
          "base_uri": "https://localhost:8080/"
        },
        "id": "upKgRxiNT5MQ",
        "outputId": "12c5c4ee-f970-4b9b-c6c1-2455a06ca245"
      },
      "source": [
        "model = Sequential([\n",
        "    Dense(64, input_dim=28*28, activation='relu'), \n",
        "    Dense(32, activation='relu'), \n",
        "    Dense(25, activation='softmax')\n",
        "])\n",
        "\n",
        "model.compile(loss='categorical_crossentropy', optimizer='adam', metrics=['accuracy'])\n",
        "\n",
        "checkpoint_callback = ModelCheckpoint(\"best_model.h5\", \n",
        "                                      save_best_only=True, \n",
        "                                      monitor=\"val_loss\")\n",
        "\n",
        "hist = model.fit(x_train, y_train, \n",
        "                 validation_split=0.2, \n",
        "                 batch_size=32,\n",
        "                 epochs=100,  \n",
        "                 callbacks=[checkpoint_callback])"
      ],
      "execution_count": 15,
      "outputs": [
        {
          "output_type": "stream",
          "text": [
            "Epoch 1/100\n",
            "687/687 [==============================] - 5s 4ms/step - loss: 2.4393 - accuracy: 0.2587 - val_loss: 1.7711 - val_accuracy: 0.4364\n",
            "Epoch 2/100\n",
            "687/687 [==============================] - 2s 4ms/step - loss: 1.5228 - accuracy: 0.5137 - val_loss: 1.3234 - val_accuracy: 0.5604\n",
            "Epoch 3/100\n",
            "687/687 [==============================] - 3s 4ms/step - loss: 1.2136 - accuracy: 0.6077 - val_loss: 1.1109 - val_accuracy: 0.6389\n",
            "Epoch 4/100\n",
            "687/687 [==============================] - 3s 4ms/step - loss: 1.0224 - accuracy: 0.6741 - val_loss: 0.9155 - val_accuracy: 0.7104\n",
            "Epoch 5/100\n",
            "687/687 [==============================] - 3s 4ms/step - loss: 0.8932 - accuracy: 0.7202 - val_loss: 0.7820 - val_accuracy: 0.7540\n",
            "Epoch 6/100\n",
            "687/687 [==============================] - 3s 4ms/step - loss: 0.7810 - accuracy: 0.7522 - val_loss: 0.8199 - val_accuracy: 0.7279\n",
            "Epoch 7/100\n",
            "687/687 [==============================] - 3s 4ms/step - loss: 0.6919 - accuracy: 0.7771 - val_loss: 0.6212 - val_accuracy: 0.8133\n",
            "Epoch 8/100\n",
            "687/687 [==============================] - 3s 4ms/step - loss: 0.6149 - accuracy: 0.8074 - val_loss: 0.6191 - val_accuracy: 0.7980\n",
            "Epoch 9/100\n",
            "687/687 [==============================] - 3s 4ms/step - loss: 0.5417 - accuracy: 0.8320 - val_loss: 0.4979 - val_accuracy: 0.8357\n",
            "Epoch 10/100\n",
            "687/687 [==============================] - 3s 4ms/step - loss: 0.4841 - accuracy: 0.8469 - val_loss: 0.4548 - val_accuracy: 0.8558\n",
            "Epoch 11/100\n",
            "687/687 [==============================] - 3s 4ms/step - loss: 0.4329 - accuracy: 0.8630 - val_loss: 0.4117 - val_accuracy: 0.8707\n",
            "Epoch 12/100\n",
            "687/687 [==============================] - 3s 4ms/step - loss: 0.3801 - accuracy: 0.8814 - val_loss: 0.5618 - val_accuracy: 0.8084\n",
            "Epoch 13/100\n",
            "687/687 [==============================] - 3s 4ms/step - loss: 0.3513 - accuracy: 0.8905 - val_loss: 0.2825 - val_accuracy: 0.9153\n",
            "Epoch 14/100\n",
            "687/687 [==============================] - 3s 4ms/step - loss: 0.2880 - accuracy: 0.9125 - val_loss: 0.3124 - val_accuracy: 0.8933\n",
            "Epoch 15/100\n",
            "687/687 [==============================] - 3s 4ms/step - loss: 0.2562 - accuracy: 0.9236 - val_loss: 0.2406 - val_accuracy: 0.9290\n",
            "Epoch 16/100\n",
            "687/687 [==============================] - 3s 4ms/step - loss: 0.2372 - accuracy: 0.9277 - val_loss: 0.1893 - val_accuracy: 0.9474\n",
            "Epoch 17/100\n",
            "687/687 [==============================] - 3s 4ms/step - loss: 0.2036 - accuracy: 0.9392 - val_loss: 0.1858 - val_accuracy: 0.9466\n",
            "Epoch 18/100\n",
            "687/687 [==============================] - 3s 4ms/step - loss: 0.1791 - accuracy: 0.9491 - val_loss: 0.2511 - val_accuracy: 0.9106\n",
            "Epoch 19/100\n",
            "687/687 [==============================] - 3s 4ms/step - loss: 0.1594 - accuracy: 0.9561 - val_loss: 0.1311 - val_accuracy: 0.9696\n",
            "Epoch 20/100\n",
            "687/687 [==============================] - 3s 4ms/step - loss: 0.1413 - accuracy: 0.9611 - val_loss: 0.1744 - val_accuracy: 0.9401\n",
            "Epoch 21/100\n",
            "687/687 [==============================] - 3s 4ms/step - loss: 0.1190 - accuracy: 0.9689 - val_loss: 0.2434 - val_accuracy: 0.9088\n",
            "Epoch 22/100\n",
            "687/687 [==============================] - 3s 4ms/step - loss: 0.1091 - accuracy: 0.9700 - val_loss: 0.1412 - val_accuracy: 0.9525\n",
            "Epoch 23/100\n",
            "687/687 [==============================] - 3s 4ms/step - loss: 0.0876 - accuracy: 0.9799 - val_loss: 0.0982 - val_accuracy: 0.9714\n",
            "Epoch 24/100\n",
            "687/687 [==============================] - 3s 4ms/step - loss: 0.1072 - accuracy: 0.9681 - val_loss: 0.1014 - val_accuracy: 0.9681\n",
            "Epoch 25/100\n",
            "687/687 [==============================] - 3s 4ms/step - loss: 0.0915 - accuracy: 0.9759 - val_loss: 0.1382 - val_accuracy: 0.9516\n",
            "Epoch 26/100\n",
            "687/687 [==============================] - 3s 4ms/step - loss: 0.0589 - accuracy: 0.9883 - val_loss: 0.0845 - val_accuracy: 0.9736\n",
            "Epoch 27/100\n",
            "687/687 [==============================] - 3s 4ms/step - loss: 0.0702 - accuracy: 0.9807 - val_loss: 0.1096 - val_accuracy: 0.9608\n",
            "Epoch 28/100\n",
            "687/687 [==============================] - 3s 4ms/step - loss: 0.0556 - accuracy: 0.9867 - val_loss: 0.0329 - val_accuracy: 0.9949\n",
            "Epoch 29/100\n",
            "687/687 [==============================] - 3s 4ms/step - loss: 0.0593 - accuracy: 0.9840 - val_loss: 0.0252 - val_accuracy: 0.9978\n",
            "Epoch 30/100\n",
            "687/687 [==============================] - 3s 4ms/step - loss: 0.0626 - accuracy: 0.9831 - val_loss: 0.0229 - val_accuracy: 0.9975\n",
            "Epoch 31/100\n",
            "687/687 [==============================] - 3s 4ms/step - loss: 0.0674 - accuracy: 0.9814 - val_loss: 0.0258 - val_accuracy: 0.9956\n",
            "Epoch 32/100\n",
            "687/687 [==============================] - 3s 4ms/step - loss: 0.0292 - accuracy: 0.9949 - val_loss: 0.0950 - val_accuracy: 0.9701\n",
            "Epoch 33/100\n",
            "687/687 [==============================] - 3s 4ms/step - loss: 0.0572 - accuracy: 0.9843 - val_loss: 0.0247 - val_accuracy: 0.9960\n",
            "Epoch 34/100\n",
            "687/687 [==============================] - 3s 4ms/step - loss: 0.0382 - accuracy: 0.9903 - val_loss: 0.0179 - val_accuracy: 0.9993\n",
            "Epoch 35/100\n",
            "687/687 [==============================] - 3s 4ms/step - loss: 0.0422 - accuracy: 0.9890 - val_loss: 0.0196 - val_accuracy: 0.9969\n",
            "Epoch 36/100\n",
            "687/687 [==============================] - 3s 4ms/step - loss: 0.0707 - accuracy: 0.9796 - val_loss: 0.0239 - val_accuracy: 0.9964\n",
            "Epoch 37/100\n",
            "687/687 [==============================] - 3s 4ms/step - loss: 0.0443 - accuracy: 0.9878 - val_loss: 0.0536 - val_accuracy: 0.9832\n",
            "Epoch 38/100\n",
            "687/687 [==============================] - 3s 4ms/step - loss: 0.0162 - accuracy: 0.9979 - val_loss: 0.0139 - val_accuracy: 0.9982\n",
            "Epoch 39/100\n",
            "687/687 [==============================] - 3s 4ms/step - loss: 0.0566 - accuracy: 0.9847 - val_loss: 0.0136 - val_accuracy: 0.9987\n",
            "Epoch 40/100\n",
            "687/687 [==============================] - 3s 4ms/step - loss: 0.0132 - accuracy: 0.9982 - val_loss: 0.0375 - val_accuracy: 0.9898\n",
            "Epoch 41/100\n",
            "687/687 [==============================] - 3s 4ms/step - loss: 0.0472 - accuracy: 0.9863 - val_loss: 0.0073 - val_accuracy: 0.9991\n",
            "Epoch 42/100\n",
            "687/687 [==============================] - 3s 4ms/step - loss: 0.0484 - accuracy: 0.9856 - val_loss: 0.0142 - val_accuracy: 0.9984\n",
            "Epoch 43/100\n",
            "687/687 [==============================] - 3s 4ms/step - loss: 0.0143 - accuracy: 0.9977 - val_loss: 0.0077 - val_accuracy: 0.9995\n",
            "Epoch 44/100\n",
            "687/687 [==============================] - 3s 4ms/step - loss: 0.0462 - accuracy: 0.9862 - val_loss: 0.4436 - val_accuracy: 0.8685\n",
            "Epoch 45/100\n",
            "687/687 [==============================] - 3s 4ms/step - loss: 0.0497 - accuracy: 0.9880 - val_loss: 0.0054 - val_accuracy: 0.9998\n",
            "Epoch 46/100\n",
            "687/687 [==============================] - 3s 4ms/step - loss: 0.0074 - accuracy: 0.9992 - val_loss: 0.0165 - val_accuracy: 0.9971\n",
            "Epoch 47/100\n",
            "687/687 [==============================] - 3s 4ms/step - loss: 0.0775 - accuracy: 0.9778 - val_loss: 0.0076 - val_accuracy: 0.9989\n",
            "Epoch 48/100\n",
            "687/687 [==============================] - 3s 4ms/step - loss: 0.0057 - accuracy: 0.9995 - val_loss: 0.0049 - val_accuracy: 0.9996\n",
            "Epoch 49/100\n",
            "687/687 [==============================] - 3s 4ms/step - loss: 0.0386 - accuracy: 0.9894 - val_loss: 0.0077 - val_accuracy: 0.9987\n",
            "Epoch 50/100\n",
            "687/687 [==============================] - 3s 4ms/step - loss: 0.0079 - accuracy: 0.9989 - val_loss: 0.0556 - val_accuracy: 0.9805\n",
            "Epoch 51/100\n",
            "687/687 [==============================] - 3s 4ms/step - loss: 0.0711 - accuracy: 0.9786 - val_loss: 0.0109 - val_accuracy: 0.9985\n",
            "Epoch 52/100\n",
            "687/687 [==============================] - 3s 4ms/step - loss: 0.0041 - accuracy: 0.9999 - val_loss: 0.0037 - val_accuracy: 0.9996\n",
            "Epoch 53/100\n",
            "687/687 [==============================] - 3s 4ms/step - loss: 0.0476 - accuracy: 0.9868 - val_loss: 0.0045 - val_accuracy: 1.0000\n",
            "Epoch 54/100\n",
            "687/687 [==============================] - 3s 4ms/step - loss: 0.0038 - accuracy: 0.9999 - val_loss: 0.0053 - val_accuracy: 0.9998\n",
            "Epoch 55/100\n",
            "687/687 [==============================] - 3s 4ms/step - loss: 0.0598 - accuracy: 0.9837 - val_loss: 0.0080 - val_accuracy: 0.9985\n",
            "Epoch 56/100\n",
            "687/687 [==============================] - 3s 4ms/step - loss: 0.0043 - accuracy: 0.9998 - val_loss: 0.0035 - val_accuracy: 0.9998\n",
            "Epoch 57/100\n",
            "687/687 [==============================] - 3s 4ms/step - loss: 0.0374 - accuracy: 0.9892 - val_loss: 0.0224 - val_accuracy: 0.9924\n",
            "Epoch 58/100\n",
            "687/687 [==============================] - 3s 4ms/step - loss: 0.0217 - accuracy: 0.9932 - val_loss: 0.0066 - val_accuracy: 0.9991\n",
            "Epoch 59/100\n",
            "687/687 [==============================] - 3s 4ms/step - loss: 0.0027 - accuracy: 1.0000 - val_loss: 0.0028 - val_accuracy: 0.9998\n",
            "Epoch 60/100\n",
            "687/687 [==============================] - 3s 4ms/step - loss: 0.0470 - accuracy: 0.9863 - val_loss: 0.0054 - val_accuracy: 0.9993\n",
            "Epoch 61/100\n",
            "687/687 [==============================] - 3s 4ms/step - loss: 0.0050 - accuracy: 0.9992 - val_loss: 0.0025 - val_accuracy: 1.0000\n",
            "Epoch 62/100\n",
            "687/687 [==============================] - 3s 4ms/step - loss: 0.0350 - accuracy: 0.9912 - val_loss: 0.0141 - val_accuracy: 0.9978\n",
            "Epoch 63/100\n",
            "687/687 [==============================] - 3s 4ms/step - loss: 0.0027 - accuracy: 1.0000 - val_loss: 0.0027 - val_accuracy: 0.9996\n",
            "Epoch 64/100\n",
            "687/687 [==============================] - 3s 4ms/step - loss: 0.0409 - accuracy: 0.9888 - val_loss: 0.0240 - val_accuracy: 0.9918\n",
            "Epoch 65/100\n",
            "687/687 [==============================] - 3s 4ms/step - loss: 0.0038 - accuracy: 0.9996 - val_loss: 0.0027 - val_accuracy: 0.9996\n",
            "Epoch 66/100\n",
            "687/687 [==============================] - 3s 4ms/step - loss: 0.0368 - accuracy: 0.9892 - val_loss: 0.0210 - val_accuracy: 0.9940\n",
            "Epoch 67/100\n",
            "687/687 [==============================] - 3s 4ms/step - loss: 0.0283 - accuracy: 0.9921 - val_loss: 0.0056 - val_accuracy: 0.9989\n",
            "Epoch 68/100\n",
            "687/687 [==============================] - 3s 4ms/step - loss: 0.0054 - accuracy: 0.9988 - val_loss: 0.0021 - val_accuracy: 0.9998\n",
            "Epoch 69/100\n",
            "687/687 [==============================] - 3s 4ms/step - loss: 0.0726 - accuracy: 0.9839 - val_loss: 0.0033 - val_accuracy: 0.9996\n",
            "Epoch 70/100\n",
            "687/687 [==============================] - 3s 4ms/step - loss: 0.0021 - accuracy: 1.0000 - val_loss: 0.0023 - val_accuracy: 0.9998\n",
            "Epoch 71/100\n",
            "687/687 [==============================] - 3s 4ms/step - loss: 0.0526 - accuracy: 0.9870 - val_loss: 0.1833 - val_accuracy: 0.9353\n",
            "Epoch 72/100\n",
            "687/687 [==============================] - 3s 4ms/step - loss: 0.0086 - accuracy: 0.9980 - val_loss: 0.0024 - val_accuracy: 0.9998\n",
            "Epoch 73/100\n",
            "687/687 [==============================] - 3s 4ms/step - loss: 0.0077 - accuracy: 0.9982 - val_loss: 0.2602 - val_accuracy: 0.9231\n",
            "Epoch 74/100\n",
            "687/687 [==============================] - 3s 4ms/step - loss: 0.0564 - accuracy: 0.9827 - val_loss: 0.0027 - val_accuracy: 0.9996\n",
            "Epoch 75/100\n",
            "687/687 [==============================] - 3s 4ms/step - loss: 0.0017 - accuracy: 1.0000 - val_loss: 0.0020 - val_accuracy: 0.9998\n",
            "Epoch 76/100\n",
            "687/687 [==============================] - 3s 4ms/step - loss: 0.0023 - accuracy: 0.9998 - val_loss: 0.0018 - val_accuracy: 0.9998\n",
            "Epoch 77/100\n",
            "687/687 [==============================] - 3s 4ms/step - loss: 0.0716 - accuracy: 0.9835 - val_loss: 0.0037 - val_accuracy: 0.9995\n",
            "Epoch 78/100\n",
            "687/687 [==============================] - 3s 4ms/step - loss: 0.0020 - accuracy: 1.0000 - val_loss: 0.0018 - val_accuracy: 1.0000\n",
            "Epoch 79/100\n",
            "687/687 [==============================] - 3s 4ms/step - loss: 0.0018 - accuracy: 1.0000 - val_loss: 0.0018 - val_accuracy: 0.9998\n",
            "Epoch 80/100\n",
            "687/687 [==============================] - 3s 4ms/step - loss: 0.0350 - accuracy: 0.9909 - val_loss: 0.0019 - val_accuracy: 0.9998\n",
            "Epoch 81/100\n",
            "687/687 [==============================] - 3s 4ms/step - loss: 0.0019 - accuracy: 1.0000 - val_loss: 0.0050 - val_accuracy: 0.9998\n",
            "Epoch 82/100\n",
            "687/687 [==============================] - 3s 4ms/step - loss: 0.0441 - accuracy: 0.9863 - val_loss: 0.0025 - val_accuracy: 0.9996\n",
            "Epoch 83/100\n",
            "687/687 [==============================] - 3s 4ms/step - loss: 0.0037 - accuracy: 0.9994 - val_loss: 0.0181 - val_accuracy: 0.9954\n",
            "Epoch 84/100\n",
            "687/687 [==============================] - 3s 4ms/step - loss: 0.0251 - accuracy: 0.9918 - val_loss: 0.0016 - val_accuracy: 1.0000\n",
            "Epoch 85/100\n",
            "687/687 [==============================] - 3s 4ms/step - loss: 0.0023 - accuracy: 0.9998 - val_loss: 0.0012 - val_accuracy: 1.0000\n",
            "Epoch 86/100\n",
            "687/687 [==============================] - 3s 4ms/step - loss: 0.0012 - accuracy: 1.0000 - val_loss: 0.0094 - val_accuracy: 0.9978\n",
            "Epoch 87/100\n",
            "687/687 [==============================] - 3s 4ms/step - loss: 0.0597 - accuracy: 0.9860 - val_loss: 0.1672 - val_accuracy: 0.9450\n",
            "Epoch 88/100\n",
            "687/687 [==============================] - 3s 4ms/step - loss: 0.0168 - accuracy: 0.9958 - val_loss: 0.0018 - val_accuracy: 1.0000\n",
            "Epoch 89/100\n",
            "687/687 [==============================] - 3s 4ms/step - loss: 0.0012 - accuracy: 1.0000 - val_loss: 0.0011 - val_accuracy: 1.0000\n",
            "Epoch 90/100\n",
            "687/687 [==============================] - 3s 4ms/step - loss: 0.0489 - accuracy: 0.9860 - val_loss: 0.0067 - val_accuracy: 0.9987\n",
            "Epoch 91/100\n",
            "687/687 [==============================] - 3s 4ms/step - loss: 0.0033 - accuracy: 0.9996 - val_loss: 0.0014 - val_accuracy: 1.0000\n",
            "Epoch 92/100\n",
            "687/687 [==============================] - 3s 4ms/step - loss: 0.0011 - accuracy: 1.0000 - val_loss: 0.0018 - val_accuracy: 0.9998\n",
            "Epoch 93/100\n",
            "687/687 [==============================] - 3s 4ms/step - loss: 9.3988e-04 - accuracy: 1.0000 - val_loss: 0.0010 - val_accuracy: 0.9998\n",
            "Epoch 94/100\n",
            "687/687 [==============================] - 3s 4ms/step - loss: 0.0931 - accuracy: 0.9793 - val_loss: 0.0062 - val_accuracy: 0.9987\n",
            "Epoch 95/100\n",
            "687/687 [==============================] - 3s 4ms/step - loss: 0.0023 - accuracy: 0.9998 - val_loss: 0.0015 - val_accuracy: 1.0000\n",
            "Epoch 96/100\n",
            "687/687 [==============================] - 3s 4ms/step - loss: 0.0013 - accuracy: 1.0000 - val_loss: 0.0012 - val_accuracy: 1.0000\n",
            "Epoch 97/100\n",
            "687/687 [==============================] - 3s 4ms/step - loss: 9.4354e-04 - accuracy: 1.0000 - val_loss: 0.0011 - val_accuracy: 1.0000\n",
            "Epoch 98/100\n",
            "687/687 [==============================] - 3s 4ms/step - loss: 0.0759 - accuracy: 0.9802 - val_loss: 0.0040 - val_accuracy: 0.9995\n",
            "Epoch 99/100\n",
            "687/687 [==============================] - 3s 4ms/step - loss: 0.0022 - accuracy: 0.9997 - val_loss: 0.0014 - val_accuracy: 0.9998\n",
            "Epoch 100/100\n",
            "687/687 [==============================] - 3s 4ms/step - loss: 0.0011 - accuracy: 1.0000 - val_loss: 0.0011 - val_accuracy: 1.0000\n"
          ],
          "name": "stdout"
        }
      ]
    },
    {
      "cell_type": "code",
      "metadata": {
        "colab": {
          "base_uri": "https://localhost:8080/",
          "height": 279
        },
        "id": "ceNs9lckwfbd",
        "outputId": "56649f31-fe45-435d-b0a8-99bb10fda602"
      },
      "source": [
        "fig, loss_ax = plt.subplots()\n",
        "\n",
        "acc_ax = loss_ax.twinx()\n",
        "\n",
        "loss_ax.plot(hist.history['loss'], 'y', label='train loss')\n",
        "loss_ax.plot(hist.history['val_loss'], 'r', label='val loss')\n",
        "\n",
        "acc_ax.plot(hist.history['accuracy'], 'b', label='train acc')\n",
        "acc_ax.plot(hist.history['val_accuracy'], 'g', label='val acc')\n",
        "\n",
        "loss_ax.set_xlabel('epoch')\n",
        "loss_ax.set_ylabel('loss')\n",
        "acc_ax.set_ylabel('accuray')\n",
        "\n",
        "loss_ax.legend(loc='upper left')\n",
        "acc_ax.legend(loc='lower left')\n",
        "\n",
        "plt.show()"
      ],
      "execution_count": 16,
      "outputs": [
        {
          "output_type": "display_data",
          "data": {
            "image/png": "[encoded data removed]",
            "text/plain": [
              "<Figure size 432x288 with 2 Axes>"
            ]
          },
          "metadata": {
            "tags": [],
            "needs_background": "light"
          }
        }
      ]
    },
    {
      "cell_type": "markdown",
      "metadata": {
        "id": "E2pcI4oMn7Ux"
      },
      "source": [
        "이로서 현재 학습 과정 중 가장 낮은 검증셋의 손실값을 가진 모델이 \"best_model.h5\" 파일로 저장되었습니다."
      ]
    },
    {
      "cell_type": "markdown",
      "metadata": {
        "id": "2FGSGDMLn7Ux"
      },
      "source": [
        "파일로 저장된 모델을 로딩하여 시험셋으로 최종 평가를 수행합니다."
      ]
    },
    {
      "cell_type": "code",
      "metadata": {
        "colab": {
          "base_uri": "https://localhost:8080/"
        },
        "id": "7dR4v-GuwCuG",
        "outputId": "9539e11f-be7b-41b7-bdb3-e887ecab1539"
      },
      "source": [
        "model = load_model(\"best_model.h5\")\n",
        "\n",
        "test_loss, test_acc = model.evaluate(x_test, y_test)\n",
        "\n",
        "print(\"Test accuracy\", test_acc)\n",
        "print(\"Test loss\", test_loss)"
      ],
      "execution_count": 17,
      "outputs": [
        {
          "output_type": "stream",
          "text": [
            "225/225 [==============================] - 1s 3ms/step - loss: 2.1717 - accuracy: 0.7241\n",
            "Test accuracy 0.7240658402442932\n",
            "Test loss 2.171677589416504\n"
          ],
          "name": "stdout"
        }
      ]
    },
    {
      "cell_type": "markdown",
      "metadata": {
        "id": "gPwlKPzqZmOu"
      },
      "source": [
        "또한 시험셋으로 테스트한 결과를 제출하기 위해 모델 결과 파일을 저장합니다. 출력이 10개 클래스에 해당하는 벡터이므로, 분류한 클래스 정보를 얻기 위해 가장 높은 값을 가진 인덱스 값을 가지고 옵니다. 이 인덱스가 클래스를 의미하며, 이 값을 파일로 저장합니다."
      ]
    },
    {
      "cell_type": "code",
      "metadata": {
        "id": "REvi-WpIZuKx"
      },
      "source": [
        "y_pred = model.predict(x_test)\n",
        "y_pred = y_pred.argmax(axis=-1)\n",
        "np.savetxt('y_pred.csv', y_pred, fmt='%d')"
      ],
      "execution_count": 18,
      "outputs": []
    }
  ]
}