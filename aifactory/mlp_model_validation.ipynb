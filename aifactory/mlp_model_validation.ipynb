{
  "nbformat": 4,
  "nbformat_minor": 0,
  "metadata": {
    "accelerator": "GPU",
    "colab": {
      "name": "mlp_model_validation.ipynb",
      "provenance": [],
      "collapsed_sections": []
    },
    "kernelspec": {
      "display_name": "Python 3",
      "language": "python",
      "name": "python3"
    },
    "language_info": {
      "codemirror_mode": {
        "name": "ipython",
        "version": 3
      },
      "file_extension": ".py",
      "mimetype": "text/x-python",
      "name": "python",
      "nbconvert_exporter": "python",
      "pygments_lexer": "ipython3",
      "version": "3.6.10"
    }
  },
  "cells": [
    {
      "cell_type": "markdown",
      "metadata": {
        "id": "L3eSKOAdn7Uw"
      },
      "source": [
        "필요한 패키지를 가져옵니다."
      ]
    },
    {
      "cell_type": "code",
      "metadata": {
        "id": "-XAyceMYvow8"
      },
      "source": [
        "import numpy as np\n",
        "import matplotlib.pyplot as plt\n",
        "\n",
        "from tensorflow.keras.models import Sequential, load_model\n",
        "from tensorflow.keras.layers import Dense\n",
        "from tensorflow.keras.callbacks import ModelCheckpoint\n",
        "from tensorflow.keras.utils import plot_model, to_categorical\n",
        "from tensorflow.keras.datasets import mnist"
      ],
      "execution_count": 1,
      "outputs": []
    },
    {
      "cell_type": "markdown",
      "metadata": {
        "id": "hRfuOMk0n7Uw"
      },
      "source": [
        "숫자 손글씨 데이터셋을 불러옵니다. "
      ]
    },
    {
      "cell_type": "code",
      "metadata": {
        "colab": {
          "base_uri": "https://localhost:8080/"
        },
        "id": "nKPyUcYouz_8",
        "outputId": "2dd4b6f9-7b03-43a0-fe58-4db02b3186cc"
      },
      "source": [
        "(x_train, y_train), (x_test, y_test) = mnist.load_data()\n",
        "\n",
        "print('x_train shape : ' + str(x_train.shape))\n",
        "print('y_train shape : ' + str(y_train.shape))\n",
        "print('x_test shape : ' + str(x_test.shape))\n",
        "print('y_test shape : ' + str(y_test.shape))"
      ],
      "execution_count": 2,
      "outputs": [
        {
          "output_type": "stream",
          "text": [
            "Downloading data from https://storage.googleapis.com/tensorflow/tf-keras-datasets/mnist.npz\n",
            "11493376/11490434 [==============================] - 0s 0us/step\n",
            "x_train shape : (60000, 28, 28)\n",
            "y_train shape : (60000,)\n",
            "x_test shape : (10000, 28, 28)\n",
            "y_test shape : (10000,)\n"
          ],
          "name": "stdout"
        }
      ]
    },
    {
      "cell_type": "markdown",
      "metadata": {
        "id": "1MRgyIo7VDTm"
      },
      "source": [
        "테스트할 샘플 하나를 살펴봅니다."
      ]
    },
    {
      "cell_type": "code",
      "metadata": {
        "colab": {
          "base_uri": "https://localhost:8080/",
          "height": 283
        },
        "id": "M5dzhF1mVHpX",
        "outputId": "e34cd323-6496-4db1-8656-fb5493e803d2"
      },
      "source": [
        "plt.imshow(x_test[0], cmap='gray')"
      ],
      "execution_count": 3,
      "outputs": [
        {
          "output_type": "execute_result",
          "data": {
            "text/plain": [
              "<matplotlib.image.AxesImage at 0x7f36d36d3690>"
            ]
          },
          "metadata": {
            "tags": []
          },
          "execution_count": 3
        },
        {
          "output_type": "display_data",
          "data": {
            "image/png": "[encoded data removed]",
            "text/plain": [
              "<Figure size 432x288 with 1 Axes>"
            ]
          },
          "metadata": {
            "tags": [],
            "needs_background": "light"
          }
        }
      ]
    },
    {
      "cell_type": "markdown",
      "metadata": {
        "id": "59TzdRYXai74"
      },
      "source": [
        "인공지능 모델이 이 이미지를 입력받았을 때, 해당하는 숫자를 출력할 수 있도록 만드는 것이 목표입니다. 우리는 y_test 라벨값도 가지고 있어서 바로 확인은 할 수 있으나, 모델 학습 시에는 사용이 되지 않으며, 시험 평가할 때만 사용됩니다."
      ]
    },
    {
      "cell_type": "code",
      "metadata": {
        "colab": {
          "base_uri": "https://localhost:8080/"
        },
        "id": "pfFSxqevajVW",
        "outputId": "9ccf6e64-9b51-406e-98dd-0731b4ed4045"
      },
      "source": [
        "print(y_test[0])"
      ],
      "execution_count": 4,
      "outputs": [
        {
          "output_type": "stream",
          "text": [
            "7\n"
          ],
          "name": "stdout"
        }
      ]
    },
    {
      "cell_type": "markdown",
      "metadata": {
        "id": "GMiJUbcHn7Ux"
      },
      "source": [
        "모델 학습에 용이하도록 다음과 같이 데이터 전처리를 수행합니다.\n",
        "\n",
        "*   데이터 전처리\n",
        "    * 3차원(샘플수, 세로, 가로)를 2차원(샘플수, 벡터수)으로 변경\n",
        "    * 정수를 실수로 변경\n",
        "    * 0 ~ 255 사이의 수치를 0.0 ~ 1.0 사이로 정규화 수행\n",
        "*   라벨 전처리\n",
        "    * 0 ~ 9 라벨에 대한 원핫인코딩 수행 \n",
        "\n"
      ]
    },
    {
      "cell_type": "code",
      "metadata": {
        "id": "-Tq2r8mKB9RC"
      },
      "source": [
        "x_train = x_train.reshape(60000, 784).astype('float32') / 255.0\n",
        "x_test = x_test.reshape(10000, 784).astype('float32') / 255.0\n",
        "y_train = to_categorical(y_train)\n",
        "y_test = to_categorical(y_test)"
      ],
      "execution_count": 5,
      "outputs": []
    },
    {
      "cell_type": "markdown",
      "metadata": {
        "id": "WQ6ok1F3n7Ux"
      },
      "source": [
        "모델은 다음과 같이 구성하였습니다.\n",
        "\n",
        "* 입력: 1차원의 784개 벡터\n",
        "* 출력: 10개 벡터\n",
        "* 출력층의 활성화 함수: 소프트맥스\n",
        "* 손실함수: categorical_crossentropy\n",
        "* 최적화기: adam\n",
        "* 평가 메트릭: accuracy\n"
      ]
    },
    {
      "cell_type": "code",
      "metadata": {
        "id": "_SXTk3Twv9Qc"
      },
      "source": [
        "model = Sequential([\n",
        "    Dense(64, input_dim=28*28, activation='relu'), \n",
        "    Dense(32, activation='relu'), \n",
        "    Dense(10, activation='softmax')\n",
        "])\n",
        "\n",
        "model.compile(loss='categorical_crossentropy', optimizer='adam', metrics=['accuracy'])"
      ],
      "execution_count": 6,
      "outputs": []
    },
    {
      "cell_type": "markdown",
      "metadata": {
        "id": "7C7XabvDn7Ux"
      },
      "source": [
        "모델 네트워크 아키텍처 구성을 그려보겠습니다."
      ]
    },
    {
      "cell_type": "code",
      "metadata": {
        "colab": {
          "base_uri": "https://localhost:8080/",
          "height": 422
        },
        "id": "xFLTw6eln7Ux",
        "outputId": "76cd8b34-ca6e-4b0b-b8d2-6cebe6143896"
      },
      "source": [
        "plot_model(model, show_shapes=True)"
      ],
      "execution_count": 7,
      "outputs": [
        {
          "output_type": "execute_result",
          "data": {
            "image/png": "[encoded data removed]",
            "text/plain": [
              "<IPython.core.display.Image object>"
            ]
          },
          "metadata": {
            "tags": []
          },
          "execution_count": 7
        }
      ]
    },
    {
      "cell_type": "markdown",
      "metadata": {
        "id": "iH75hSGrn7Ux"
      },
      "source": [
        "모델을 학습시킬 때, validation_split 옵션을 두면 훈련셋 일부를 검증셋으로 설정할 수 있습니다. 0.2로 설정할 경우, 전체 훈련셋에서 20%를 검증셋, 나머지를 훈련셋으로 구성하여 학습합니다."
      ]
    },
    {
      "cell_type": "code",
      "metadata": {
        "colab": {
          "base_uri": "https://localhost:8080/"
        },
        "id": "UDORhU0WvvG-",
        "outputId": "fb8c643c-5302-4b51-f938-e2c5843bc94d"
      },
      "source": [
        "hist = model.fit(x_train, y_train, \n",
        "                 validation_split=0.2, \n",
        "                 batch_size=32,\n",
        "                 epochs=100)"
      ],
      "execution_count": 8,
      "outputs": [
        {
          "output_type": "stream",
          "text": [
            "Epoch 1/100\n",
            "1500/1500 [==============================] - 7s 3ms/step - loss: 0.3294 - accuracy: 0.9032 - val_loss: 0.1743 - val_accuracy: 0.9482\n",
            "Epoch 2/100\n",
            "1500/1500 [==============================] - 5s 3ms/step - loss: 0.1483 - accuracy: 0.9554 - val_loss: 0.1332 - val_accuracy: 0.9611\n",
            "Epoch 3/100\n",
            "1500/1500 [==============================] - 5s 3ms/step - loss: 0.1059 - accuracy: 0.9675 - val_loss: 0.1168 - val_accuracy: 0.9645\n",
            "Epoch 4/100\n",
            "1500/1500 [==============================] - 5s 3ms/step - loss: 0.0832 - accuracy: 0.9744 - val_loss: 0.1112 - val_accuracy: 0.9673\n",
            "Epoch 5/100\n",
            "1500/1500 [==============================] - 5s 3ms/step - loss: 0.0683 - accuracy: 0.9785 - val_loss: 0.1504 - val_accuracy: 0.9565\n",
            "Epoch 6/100\n",
            "1500/1500 [==============================] - 5s 3ms/step - loss: 0.0567 - accuracy: 0.9825 - val_loss: 0.1117 - val_accuracy: 0.9683\n",
            "Epoch 7/100\n",
            "1500/1500 [==============================] - 5s 3ms/step - loss: 0.0483 - accuracy: 0.9854 - val_loss: 0.1079 - val_accuracy: 0.9703\n",
            "Epoch 8/100\n",
            "1500/1500 [==============================] - 5s 3ms/step - loss: 0.0424 - accuracy: 0.9867 - val_loss: 0.1074 - val_accuracy: 0.9689\n",
            "Epoch 9/100\n",
            "1500/1500 [==============================] - 5s 3ms/step - loss: 0.0349 - accuracy: 0.9892 - val_loss: 0.1264 - val_accuracy: 0.9690\n",
            "Epoch 10/100\n",
            "1500/1500 [==============================] - 7s 4ms/step - loss: 0.0327 - accuracy: 0.9891 - val_loss: 0.1105 - val_accuracy: 0.9718\n",
            "Epoch 11/100\n",
            "1500/1500 [==============================] - 4s 3ms/step - loss: 0.0278 - accuracy: 0.9911 - val_loss: 0.1206 - val_accuracy: 0.9689\n",
            "Epoch 12/100\n",
            "1500/1500 [==============================] - 5s 3ms/step - loss: 0.0249 - accuracy: 0.9918 - val_loss: 0.1215 - val_accuracy: 0.9707\n",
            "Epoch 13/100\n",
            "1500/1500 [==============================] - 5s 3ms/step - loss: 0.0197 - accuracy: 0.9936 - val_loss: 0.1245 - val_accuracy: 0.9713\n",
            "Epoch 14/100\n",
            "1500/1500 [==============================] - 5s 3ms/step - loss: 0.0202 - accuracy: 0.9930 - val_loss: 0.1357 - val_accuracy: 0.9693\n",
            "Epoch 15/100\n",
            "1500/1500 [==============================] - 5s 3ms/step - loss: 0.0195 - accuracy: 0.9935 - val_loss: 0.1420 - val_accuracy: 0.9721\n",
            "Epoch 16/100\n",
            "1500/1500 [==============================] - 5s 3ms/step - loss: 0.0152 - accuracy: 0.9947 - val_loss: 0.1515 - val_accuracy: 0.9702\n",
            "Epoch 17/100\n",
            "1500/1500 [==============================] - 5s 3ms/step - loss: 0.0171 - accuracy: 0.9944 - val_loss: 0.1393 - val_accuracy: 0.9713\n",
            "Epoch 18/100\n",
            "1500/1500 [==============================] - 5s 3ms/step - loss: 0.0137 - accuracy: 0.9957 - val_loss: 0.1420 - val_accuracy: 0.9707\n",
            "Epoch 19/100\n",
            "1500/1500 [==============================] - 5s 3ms/step - loss: 0.0123 - accuracy: 0.9957 - val_loss: 0.1629 - val_accuracy: 0.9712\n",
            "Epoch 20/100\n",
            "1500/1500 [==============================] - 5s 3ms/step - loss: 0.0128 - accuracy: 0.9956 - val_loss: 0.1506 - val_accuracy: 0.9733\n",
            "Epoch 21/100\n",
            "1500/1500 [==============================] - 5s 3ms/step - loss: 0.0117 - accuracy: 0.9959 - val_loss: 0.1520 - val_accuracy: 0.9734\n",
            "Epoch 22/100\n",
            "1500/1500 [==============================] - 5s 3ms/step - loss: 0.0119 - accuracy: 0.9961 - val_loss: 0.1590 - val_accuracy: 0.9728\n",
            "Epoch 23/100\n",
            "1500/1500 [==============================] - 5s 3ms/step - loss: 0.0125 - accuracy: 0.9956 - val_loss: 0.1698 - val_accuracy: 0.9719\n",
            "Epoch 24/100\n",
            "1500/1500 [==============================] - 5s 3ms/step - loss: 0.0094 - accuracy: 0.9970 - val_loss: 0.1697 - val_accuracy: 0.9724\n",
            "Epoch 25/100\n",
            "1500/1500 [==============================] - 5s 3ms/step - loss: 0.0101 - accuracy: 0.9966 - val_loss: 0.1595 - val_accuracy: 0.9730\n",
            "Epoch 26/100\n",
            "1500/1500 [==============================] - 5s 3ms/step - loss: 0.0117 - accuracy: 0.9963 - val_loss: 0.2070 - val_accuracy: 0.9680\n",
            "Epoch 27/100\n",
            "1500/1500 [==============================] - 5s 3ms/step - loss: 0.0106 - accuracy: 0.9966 - val_loss: 0.1798 - val_accuracy: 0.9740\n",
            "Epoch 28/100\n",
            "1500/1500 [==============================] - 5s 3ms/step - loss: 0.0096 - accuracy: 0.9968 - val_loss: 0.1730 - val_accuracy: 0.9747\n",
            "Epoch 29/100\n",
            "1500/1500 [==============================] - 5s 3ms/step - loss: 0.0085 - accuracy: 0.9971 - val_loss: 0.1850 - val_accuracy: 0.9721\n",
            "Epoch 30/100\n",
            "1500/1500 [==============================] - 5s 3ms/step - loss: 0.0097 - accuracy: 0.9967 - val_loss: 0.1984 - val_accuracy: 0.9711\n",
            "Epoch 31/100\n",
            "1500/1500 [==============================] - 5s 3ms/step - loss: 0.0077 - accuracy: 0.9973 - val_loss: 0.2099 - val_accuracy: 0.9697\n",
            "Epoch 32/100\n",
            "1500/1500 [==============================] - 5s 3ms/step - loss: 0.0107 - accuracy: 0.9966 - val_loss: 0.2050 - val_accuracy: 0.9712\n",
            "Epoch 33/100\n",
            "1500/1500 [==============================] - 5s 3ms/step - loss: 0.0078 - accuracy: 0.9972 - val_loss: 0.1982 - val_accuracy: 0.9735\n",
            "Epoch 34/100\n",
            "1500/1500 [==============================] - 5s 3ms/step - loss: 0.0081 - accuracy: 0.9975 - val_loss: 0.2140 - val_accuracy: 0.9724\n",
            "Epoch 35/100\n",
            "1500/1500 [==============================] - 5s 3ms/step - loss: 0.0083 - accuracy: 0.9972 - val_loss: 0.1986 - val_accuracy: 0.9744\n",
            "Epoch 36/100\n",
            "1500/1500 [==============================] - 5s 3ms/step - loss: 0.0060 - accuracy: 0.9980 - val_loss: 0.2116 - val_accuracy: 0.9741\n",
            "Epoch 37/100\n",
            "1500/1500 [==============================] - 5s 3ms/step - loss: 0.0094 - accuracy: 0.9974 - val_loss: 0.2030 - val_accuracy: 0.9736\n",
            "Epoch 38/100\n",
            "1500/1500 [==============================] - 5s 3ms/step - loss: 0.0086 - accuracy: 0.9972 - val_loss: 0.2044 - val_accuracy: 0.9740\n",
            "Epoch 39/100\n",
            "1500/1500 [==============================] - 5s 3ms/step - loss: 0.0072 - accuracy: 0.9979 - val_loss: 0.2138 - val_accuracy: 0.9731\n",
            "Epoch 40/100\n",
            "1500/1500 [==============================] - 5s 3ms/step - loss: 0.0086 - accuracy: 0.9972 - val_loss: 0.2038 - val_accuracy: 0.9734\n",
            "Epoch 41/100\n",
            "1500/1500 [==============================] - 5s 3ms/step - loss: 0.0079 - accuracy: 0.9974 - val_loss: 0.2074 - val_accuracy: 0.9739\n",
            "Epoch 42/100\n",
            "1500/1500 [==============================] - 5s 3ms/step - loss: 0.0080 - accuracy: 0.9973 - val_loss: 0.2163 - val_accuracy: 0.9734\n",
            "Epoch 43/100\n",
            "1500/1500 [==============================] - 5s 3ms/step - loss: 0.0091 - accuracy: 0.9971 - val_loss: 0.2134 - val_accuracy: 0.9737\n",
            "Epoch 44/100\n",
            "1500/1500 [==============================] - 5s 3ms/step - loss: 0.0041 - accuracy: 0.9987 - val_loss: 0.2195 - val_accuracy: 0.9733\n",
            "Epoch 45/100\n",
            "1500/1500 [==============================] - 5s 3ms/step - loss: 0.0101 - accuracy: 0.9968 - val_loss: 0.2297 - val_accuracy: 0.9739\n",
            "Epoch 46/100\n",
            "1500/1500 [==============================] - 5s 3ms/step - loss: 0.0073 - accuracy: 0.9979 - val_loss: 0.2387 - val_accuracy: 0.9723\n",
            "Epoch 47/100\n",
            "1500/1500 [==============================] - 5s 3ms/step - loss: 0.0070 - accuracy: 0.9975 - val_loss: 0.2332 - val_accuracy: 0.9735\n",
            "Epoch 48/100\n",
            "1500/1500 [==============================] - 5s 3ms/step - loss: 0.0069 - accuracy: 0.9978 - val_loss: 0.2375 - val_accuracy: 0.9717\n",
            "Epoch 49/100\n",
            "1500/1500 [==============================] - 5s 3ms/step - loss: 0.0071 - accuracy: 0.9979 - val_loss: 0.2737 - val_accuracy: 0.9702\n",
            "Epoch 50/100\n",
            "1500/1500 [==============================] - 5s 3ms/step - loss: 0.0061 - accuracy: 0.9980 - val_loss: 0.2668 - val_accuracy: 0.9715\n",
            "Epoch 51/100\n",
            "1500/1500 [==============================] - 5s 3ms/step - loss: 0.0082 - accuracy: 0.9976 - val_loss: 0.2638 - val_accuracy: 0.9715\n",
            "Epoch 52/100\n",
            "1500/1500 [==============================] - 5s 3ms/step - loss: 0.0079 - accuracy: 0.9977 - val_loss: 0.2491 - val_accuracy: 0.9714\n",
            "Epoch 53/100\n",
            "1500/1500 [==============================] - 5s 3ms/step - loss: 0.0067 - accuracy: 0.9979 - val_loss: 0.2515 - val_accuracy: 0.9722\n",
            "Epoch 54/100\n",
            "1500/1500 [==============================] - 5s 3ms/step - loss: 0.0054 - accuracy: 0.9983 - val_loss: 0.2407 - val_accuracy: 0.9741\n",
            "Epoch 55/100\n",
            "1500/1500 [==============================] - 5s 3ms/step - loss: 0.0064 - accuracy: 0.9979 - val_loss: 0.2417 - val_accuracy: 0.9728\n",
            "Epoch 56/100\n",
            "1500/1500 [==============================] - 5s 3ms/step - loss: 0.0082 - accuracy: 0.9975 - val_loss: 0.2392 - val_accuracy: 0.9739\n",
            "Epoch 57/100\n",
            "1500/1500 [==============================] - 5s 3ms/step - loss: 0.0051 - accuracy: 0.9985 - val_loss: 0.2649 - val_accuracy: 0.9707\n",
            "Epoch 58/100\n",
            "1500/1500 [==============================] - 5s 3ms/step - loss: 0.0056 - accuracy: 0.9985 - val_loss: 0.2455 - val_accuracy: 0.9734\n",
            "Epoch 59/100\n",
            "1500/1500 [==============================] - 5s 3ms/step - loss: 0.0055 - accuracy: 0.9983 - val_loss: 0.2401 - val_accuracy: 0.9741\n",
            "Epoch 60/100\n",
            "1500/1500 [==============================] - 5s 3ms/step - loss: 0.0064 - accuracy: 0.9983 - val_loss: 0.2549 - val_accuracy: 0.9732\n",
            "Epoch 61/100\n",
            "1500/1500 [==============================] - 5s 3ms/step - loss: 0.0073 - accuracy: 0.9978 - val_loss: 0.2606 - val_accuracy: 0.9732\n",
            "Epoch 62/100\n",
            "1500/1500 [==============================] - 5s 3ms/step - loss: 0.0033 - accuracy: 0.9989 - val_loss: 0.2850 - val_accuracy: 0.9701\n",
            "Epoch 63/100\n",
            "1500/1500 [==============================] - 5s 3ms/step - loss: 0.0069 - accuracy: 0.9980 - val_loss: 0.2632 - val_accuracy: 0.9718\n",
            "Epoch 64/100\n",
            "1500/1500 [==============================] - 5s 3ms/step - loss: 0.0063 - accuracy: 0.9983 - val_loss: 0.2725 - val_accuracy: 0.9735\n",
            "Epoch 65/100\n",
            "1500/1500 [==============================] - 5s 3ms/step - loss: 0.0077 - accuracy: 0.9976 - val_loss: 0.2681 - val_accuracy: 0.9724\n",
            "Epoch 66/100\n",
            "1500/1500 [==============================] - 5s 3ms/step - loss: 0.0062 - accuracy: 0.9983 - val_loss: 0.3210 - val_accuracy: 0.9667\n",
            "Epoch 67/100\n",
            "1500/1500 [==============================] - 5s 3ms/step - loss: 0.0054 - accuracy: 0.9983 - val_loss: 0.2731 - val_accuracy: 0.9728\n",
            "Epoch 68/100\n",
            "1500/1500 [==============================] - 5s 3ms/step - loss: 0.0059 - accuracy: 0.9982 - val_loss: 0.2878 - val_accuracy: 0.9713\n",
            "Epoch 69/100\n",
            "1500/1500 [==============================] - 5s 3ms/step - loss: 0.0030 - accuracy: 0.9989 - val_loss: 0.2759 - val_accuracy: 0.9720\n",
            "Epoch 70/100\n",
            "1500/1500 [==============================] - 5s 3ms/step - loss: 0.0063 - accuracy: 0.9983 - val_loss: 0.2972 - val_accuracy: 0.9718\n",
            "Epoch 71/100\n",
            "1500/1500 [==============================] - 5s 3ms/step - loss: 0.0043 - accuracy: 0.9988 - val_loss: 0.3122 - val_accuracy: 0.9713\n",
            "Epoch 72/100\n",
            "1500/1500 [==============================] - 5s 3ms/step - loss: 0.0083 - accuracy: 0.9977 - val_loss: 0.2919 - val_accuracy: 0.9738\n",
            "Epoch 73/100\n",
            "1500/1500 [==============================] - 5s 3ms/step - loss: 0.0085 - accuracy: 0.9975 - val_loss: 0.2710 - val_accuracy: 0.9729\n",
            "Epoch 74/100\n",
            "1500/1500 [==============================] - 5s 3ms/step - loss: 0.0042 - accuracy: 0.9988 - val_loss: 0.3669 - val_accuracy: 0.9659\n",
            "Epoch 75/100\n",
            "1500/1500 [==============================] - 5s 3ms/step - loss: 0.0046 - accuracy: 0.9987 - val_loss: 0.2716 - val_accuracy: 0.9751\n",
            "Epoch 76/100\n",
            "1500/1500 [==============================] - 5s 3ms/step - loss: 0.0069 - accuracy: 0.9982 - val_loss: 0.2862 - val_accuracy: 0.9732\n",
            "Epoch 77/100\n",
            "1500/1500 [==============================] - 5s 3ms/step - loss: 0.0052 - accuracy: 0.9983 - val_loss: 0.2935 - val_accuracy: 0.9725\n",
            "Epoch 78/100\n",
            "1500/1500 [==============================] - 5s 3ms/step - loss: 0.0051 - accuracy: 0.9984 - val_loss: 0.2895 - val_accuracy: 0.9737\n",
            "Epoch 79/100\n",
            "1500/1500 [==============================] - 5s 3ms/step - loss: 0.0051 - accuracy: 0.9985 - val_loss: 0.3098 - val_accuracy: 0.9732\n",
            "Epoch 80/100\n",
            "1500/1500 [==============================] - 5s 3ms/step - loss: 0.0063 - accuracy: 0.9984 - val_loss: 0.3409 - val_accuracy: 0.9698\n",
            "Epoch 81/100\n",
            "1500/1500 [==============================] - 5s 3ms/step - loss: 0.0054 - accuracy: 0.9985 - val_loss: 0.2883 - val_accuracy: 0.9738\n",
            "Epoch 82/100\n",
            "1500/1500 [==============================] - 5s 3ms/step - loss: 0.0042 - accuracy: 0.9989 - val_loss: 0.3118 - val_accuracy: 0.9717\n",
            "Epoch 83/100\n",
            "1500/1500 [==============================] - 5s 3ms/step - loss: 0.0057 - accuracy: 0.9983 - val_loss: 0.3346 - val_accuracy: 0.9719\n",
            "Epoch 84/100\n",
            "1500/1500 [==============================] - 5s 3ms/step - loss: 0.0041 - accuracy: 0.9989 - val_loss: 0.3507 - val_accuracy: 0.9705\n",
            "Epoch 85/100\n",
            "1500/1500 [==============================] - 5s 3ms/step - loss: 0.0047 - accuracy: 0.9984 - val_loss: 0.3029 - val_accuracy: 0.9732\n",
            "Epoch 86/100\n",
            "1500/1500 [==============================] - 5s 3ms/step - loss: 0.0034 - accuracy: 0.9989 - val_loss: 0.2983 - val_accuracy: 0.9742\n",
            "Epoch 87/100\n",
            "1500/1500 [==============================] - 5s 3ms/step - loss: 0.0029 - accuracy: 0.9991 - val_loss: 0.3082 - val_accuracy: 0.9746\n",
            "Epoch 88/100\n",
            "1500/1500 [==============================] - 5s 3ms/step - loss: 0.0095 - accuracy: 0.9977 - val_loss: 0.3537 - val_accuracy: 0.9696\n",
            "Epoch 89/100\n",
            "1500/1500 [==============================] - 5s 3ms/step - loss: 0.0030 - accuracy: 0.9991 - val_loss: 0.3372 - val_accuracy: 0.9704\n",
            "Epoch 90/100\n",
            "1500/1500 [==============================] - 5s 3ms/step - loss: 0.0052 - accuracy: 0.9985 - val_loss: 0.3193 - val_accuracy: 0.9735\n",
            "Epoch 91/100\n",
            "1500/1500 [==============================] - 5s 3ms/step - loss: 0.0052 - accuracy: 0.9986 - val_loss: 0.3212 - val_accuracy: 0.9736\n",
            "Epoch 92/100\n",
            "1500/1500 [==============================] - 5s 3ms/step - loss: 0.0054 - accuracy: 0.9986 - val_loss: 0.3265 - val_accuracy: 0.9728\n",
            "Epoch 93/100\n",
            "1500/1500 [==============================] - 5s 3ms/step - loss: 0.0036 - accuracy: 0.9988 - val_loss: 0.3497 - val_accuracy: 0.9731\n",
            "Epoch 94/100\n",
            "1500/1500 [==============================] - 5s 3ms/step - loss: 0.0028 - accuracy: 0.9991 - val_loss: 0.3236 - val_accuracy: 0.9714\n",
            "Epoch 95/100\n",
            "1500/1500 [==============================] - 5s 3ms/step - loss: 0.0062 - accuracy: 0.9984 - val_loss: 0.3218 - val_accuracy: 0.9748\n",
            "Epoch 96/100\n",
            "1500/1500 [==============================] - 5s 3ms/step - loss: 0.0064 - accuracy: 0.9981 - val_loss: 0.3172 - val_accuracy: 0.9732\n",
            "Epoch 97/100\n",
            "1500/1500 [==============================] - 5s 3ms/step - loss: 0.0043 - accuracy: 0.9987 - val_loss: 0.3119 - val_accuracy: 0.9750\n",
            "Epoch 98/100\n",
            "1500/1500 [==============================] - 5s 3ms/step - loss: 0.0047 - accuracy: 0.9987 - val_loss: 0.3620 - val_accuracy: 0.9706\n",
            "Epoch 99/100\n",
            "1500/1500 [==============================] - 5s 3ms/step - loss: 0.0086 - accuracy: 0.9980 - val_loss: 0.3199 - val_accuracy: 0.9724\n",
            "Epoch 100/100\n",
            "1500/1500 [==============================] - 5s 3ms/step - loss: 0.0038 - accuracy: 0.9988 - val_loss: 0.3000 - val_accuracy: 0.9747\n"
          ],
          "name": "stdout"
        }
      ]
    },
    {
      "cell_type": "markdown",
      "metadata": {
        "id": "FT4_DoFRUznI"
      },
      "source": [
        "학습 시 매 에포크에 해당하는 훈련셋과 검증셋에 대한 손실값과 평가 메트릭 수치를 확인할 수 있습니다. 이를 시각화시키면 오버피팅 여부를 한 눈에 확인할 수 있습니다."
      ]
    },
    {
      "cell_type": "code",
      "metadata": {
        "colab": {
          "base_uri": "https://localhost:8080/",
          "height": 279
        },
        "id": "ceNs9lckwfbd",
        "outputId": "ba550f42-0137-45e2-88e6-1af450c54b27"
      },
      "source": [
        "fig, loss_ax = plt.subplots()\n",
        "\n",
        "acc_ax = loss_ax.twinx()\n",
        "\n",
        "loss_ax.plot(hist.history['loss'], 'y', label='train loss')\n",
        "loss_ax.plot(hist.history['val_loss'], 'r', label='val loss')\n",
        "\n",
        "acc_ax.plot(hist.history['accuracy'], 'b', label='train acc')\n",
        "acc_ax.plot(hist.history['val_accuracy'], 'g', label='val acc')\n",
        "\n",
        "loss_ax.set_xlabel('epoch')\n",
        "loss_ax.set_ylabel('loss')\n",
        "acc_ax.set_ylabel('accuray')\n",
        "\n",
        "loss_ax.legend(loc='upper left')\n",
        "acc_ax.legend(loc='lower left')\n",
        "\n",
        "plt.show()"
      ],
      "execution_count": 11,
      "outputs": [
        {
          "output_type": "display_data",
          "data": {
            "image/png": "[encoded data removed]",
            "text/plain": [
              "<Figure size 432x288 with 2 Axes>"
            ]
          },
          "metadata": {
            "tags": [],
            "needs_background": "light"
          }
        }
      ]
    },
    {
      "cell_type": "markdown",
      "metadata": {
        "id": "jCAQ09u9W09V"
      },
      "source": [
        "오버피팅이 10 에포크 이전에 발생했더라도 100 에포크까지 학습을 시켰으므로 현재 모델은 오버피팅이 되어 있는 상태입니다. 오버피팅이 되지 않은 모델을 확보하기 위해는 아래 세 가지 방법을 사용할 수 있습니다. \n",
        "\n",
        "1. 오버피팅이 되는 에포크를 확인하였다면, 오버피팅 전의 에포크 만큼 모델을 학습시킵니다.\n",
        "2. 콜백함수를 사용하여, 오버피팅이 감지되면 조기 중단을 시키도록 합니다.\n",
        "3. 콜백함수를 사용하여, 매 에포크마다 검증셋의 손실값을 체크한 후, 이전 손실값보다 낮은 경우 모델을 파일로 저장합니다. 즉 학습 종료가 되면, 파일에 저장된 모델은 손실값이 가장 낮을 때의 가중치를 가지고 있습니다.\n",
        "\n",
        "1번 방법은 두 번 학습을 시켜야하고, 2번 방법은 더 학습이 가능했음에도 설정된 오버피팅 감지 조건에 의해 조기 중단이 될 수도 있으므로, 이후 실습에서는 주로 3번 방법을 사용하도록 하겠습니다.\n",
        "\n",
        "모델 정의부터 컴파일, 콜백함수 정의, 모델 학습까지의 코드는 아래와 같습니다. 다음부터는 두 번 학습할 필요없이 아래 코드로 한 번만 수행합니다."
      ]
    },
    {
      "cell_type": "code",
      "metadata": {
        "colab": {
          "base_uri": "https://localhost:8080/"
        },
        "id": "upKgRxiNT5MQ",
        "outputId": "d2f47e3f-ba4b-49ac-feba-8129da9b2a54"
      },
      "source": [
        "model = Sequential([\n",
        "    Dense(64, input_dim=28*28, activation='relu'), \n",
        "    Dense(32, activation='relu'), \n",
        "    Dense(10, activation='softmax')\n",
        "])\n",
        "\n",
        "model.compile(loss='categorical_crossentropy', optimizer='adam', metrics=['accuracy'])\n",
        "\n",
        "checkpoint_callback = ModelCheckpoint(\"best_model.h5\", \n",
        "                                      save_best_only=True, \n",
        "                                      monitor=\"val_loss\")\n",
        "\n",
        "hist = model.fit(x_train, y_train, \n",
        "                 validation_split=0.2, \n",
        "                 batch_size=32,\n",
        "                 epochs=100,  \n",
        "                 callbacks=[checkpoint_callback])"
      ],
      "execution_count": 12,
      "outputs": [
        {
          "output_type": "stream",
          "text": [
            "Epoch 1/100\n",
            "1500/1500 [==============================] - 5s 3ms/step - loss: 0.3423 - accuracy: 0.9039 - val_loss: 0.1804 - val_accuracy: 0.9490\n",
            "Epoch 2/100\n",
            "1500/1500 [==============================] - 4s 3ms/step - loss: 0.1555 - accuracy: 0.9539 - val_loss: 0.1320 - val_accuracy: 0.9613\n",
            "Epoch 3/100\n",
            "1500/1500 [==============================] - 5s 3ms/step - loss: 0.1122 - accuracy: 0.9666 - val_loss: 0.1173 - val_accuracy: 0.9638\n",
            "Epoch 4/100\n",
            "1500/1500 [==============================] - 5s 3ms/step - loss: 0.0865 - accuracy: 0.9738 - val_loss: 0.1214 - val_accuracy: 0.9628\n",
            "Epoch 5/100\n",
            "1500/1500 [==============================] - 5s 3ms/step - loss: 0.0711 - accuracy: 0.9779 - val_loss: 0.1051 - val_accuracy: 0.9691\n",
            "Epoch 6/100\n",
            "1500/1500 [==============================] - 5s 3ms/step - loss: 0.0562 - accuracy: 0.9822 - val_loss: 0.1092 - val_accuracy: 0.9709\n",
            "Epoch 7/100\n",
            "1500/1500 [==============================] - 5s 3ms/step - loss: 0.0519 - accuracy: 0.9839 - val_loss: 0.1103 - val_accuracy: 0.9708\n",
            "Epoch 8/100\n",
            "1500/1500 [==============================] - 4s 3ms/step - loss: 0.0426 - accuracy: 0.9867 - val_loss: 0.1098 - val_accuracy: 0.9716\n",
            "Epoch 9/100\n",
            "1500/1500 [==============================] - 4s 3ms/step - loss: 0.0365 - accuracy: 0.9880 - val_loss: 0.1048 - val_accuracy: 0.9716\n",
            "Epoch 10/100\n",
            "1500/1500 [==============================] - 5s 3ms/step - loss: 0.0313 - accuracy: 0.9901 - val_loss: 0.1184 - val_accuracy: 0.9682\n",
            "Epoch 11/100\n",
            "1500/1500 [==============================] - 5s 3ms/step - loss: 0.0278 - accuracy: 0.9911 - val_loss: 0.1241 - val_accuracy: 0.9688\n",
            "Epoch 12/100\n",
            "1500/1500 [==============================] - 5s 3ms/step - loss: 0.0255 - accuracy: 0.9916 - val_loss: 0.1196 - val_accuracy: 0.9725\n",
            "Epoch 13/100\n",
            "1500/1500 [==============================] - 4s 3ms/step - loss: 0.0211 - accuracy: 0.9933 - val_loss: 0.1366 - val_accuracy: 0.9720\n",
            "Epoch 14/100\n",
            "1500/1500 [==============================] - 5s 3ms/step - loss: 0.0204 - accuracy: 0.9931 - val_loss: 0.1284 - val_accuracy: 0.9728\n",
            "Epoch 15/100\n",
            "1500/1500 [==============================] - 5s 3ms/step - loss: 0.0172 - accuracy: 0.9942 - val_loss: 0.1299 - val_accuracy: 0.9733\n",
            "Epoch 16/100\n",
            "1500/1500 [==============================] - 5s 3ms/step - loss: 0.0183 - accuracy: 0.9939 - val_loss: 0.1311 - val_accuracy: 0.9742\n",
            "Epoch 17/100\n",
            "1500/1500 [==============================] - 5s 3ms/step - loss: 0.0133 - accuracy: 0.9960 - val_loss: 0.1545 - val_accuracy: 0.9709\n",
            "Epoch 18/100\n",
            "1500/1500 [==============================] - 5s 3ms/step - loss: 0.0166 - accuracy: 0.9944 - val_loss: 0.1734 - val_accuracy: 0.9700\n",
            "Epoch 19/100\n",
            "1500/1500 [==============================] - 5s 3ms/step - loss: 0.0131 - accuracy: 0.9956 - val_loss: 0.1535 - val_accuracy: 0.9722\n",
            "Epoch 20/100\n",
            "1500/1500 [==============================] - 5s 3ms/step - loss: 0.0132 - accuracy: 0.9953 - val_loss: 0.1581 - val_accuracy: 0.9720\n",
            "Epoch 21/100\n",
            "1500/1500 [==============================] - 4s 3ms/step - loss: 0.0123 - accuracy: 0.9959 - val_loss: 0.1763 - val_accuracy: 0.9705\n",
            "Epoch 22/100\n",
            "1500/1500 [==============================] - 5s 3ms/step - loss: 0.0135 - accuracy: 0.9956 - val_loss: 0.1664 - val_accuracy: 0.9707\n",
            "Epoch 23/100\n",
            "1500/1500 [==============================] - 5s 3ms/step - loss: 0.0102 - accuracy: 0.9965 - val_loss: 0.1575 - val_accuracy: 0.9732\n",
            "Epoch 24/100\n",
            "1500/1500 [==============================] - 5s 3ms/step - loss: 0.0099 - accuracy: 0.9966 - val_loss: 0.1742 - val_accuracy: 0.9703\n",
            "Epoch 25/100\n",
            "1500/1500 [==============================] - 5s 3ms/step - loss: 0.0119 - accuracy: 0.9960 - val_loss: 0.1736 - val_accuracy: 0.9722\n",
            "Epoch 26/100\n",
            "1500/1500 [==============================] - 4s 3ms/step - loss: 0.0092 - accuracy: 0.9966 - val_loss: 0.1879 - val_accuracy: 0.9697\n",
            "Epoch 27/100\n",
            "1500/1500 [==============================] - 5s 3ms/step - loss: 0.0106 - accuracy: 0.9963 - val_loss: 0.1827 - val_accuracy: 0.9720\n",
            "Epoch 28/100\n",
            "1500/1500 [==============================] - 5s 3ms/step - loss: 0.0084 - accuracy: 0.9972 - val_loss: 0.1694 - val_accuracy: 0.9743\n",
            "Epoch 29/100\n",
            "1500/1500 [==============================] - 5s 3ms/step - loss: 0.0079 - accuracy: 0.9974 - val_loss: 0.2045 - val_accuracy: 0.9708\n",
            "Epoch 30/100\n",
            "1500/1500 [==============================] - 5s 3ms/step - loss: 0.0122 - accuracy: 0.9962 - val_loss: 0.1864 - val_accuracy: 0.9733\n",
            "Epoch 31/100\n",
            "1500/1500 [==============================] - 5s 3ms/step - loss: 0.0087 - accuracy: 0.9971 - val_loss: 0.1827 - val_accuracy: 0.9731\n",
            "Epoch 32/100\n",
            "1500/1500 [==============================] - 5s 3ms/step - loss: 0.0092 - accuracy: 0.9969 - val_loss: 0.1926 - val_accuracy: 0.9743\n",
            "Epoch 33/100\n",
            "1500/1500 [==============================] - 4s 3ms/step - loss: 0.0103 - accuracy: 0.9964 - val_loss: 0.1990 - val_accuracy: 0.9727\n",
            "Epoch 34/100\n",
            "1500/1500 [==============================] - 5s 3ms/step - loss: 0.0051 - accuracy: 0.9985 - val_loss: 0.2150 - val_accuracy: 0.9704\n",
            "Epoch 35/100\n",
            "1500/1500 [==============================] - 5s 3ms/step - loss: 0.0108 - accuracy: 0.9965 - val_loss: 0.2050 - val_accuracy: 0.9729\n",
            "Epoch 36/100\n",
            "1500/1500 [==============================] - 4s 3ms/step - loss: 0.0062 - accuracy: 0.9978 - val_loss: 0.2245 - val_accuracy: 0.9703\n",
            "Epoch 37/100\n",
            "1500/1500 [==============================] - 5s 3ms/step - loss: 0.0109 - accuracy: 0.9965 - val_loss: 0.2047 - val_accuracy: 0.9729\n",
            "Epoch 38/100\n",
            "1500/1500 [==============================] - 5s 3ms/step - loss: 0.0040 - accuracy: 0.9987 - val_loss: 0.1967 - val_accuracy: 0.9730\n",
            "Epoch 39/100\n",
            "1500/1500 [==============================] - 5s 3ms/step - loss: 0.0074 - accuracy: 0.9978 - val_loss: 0.2230 - val_accuracy: 0.9717\n",
            "Epoch 40/100\n",
            "1500/1500 [==============================] - 5s 3ms/step - loss: 0.0058 - accuracy: 0.9981 - val_loss: 0.2102 - val_accuracy: 0.9728\n",
            "Epoch 41/100\n",
            "1500/1500 [==============================] - 5s 3ms/step - loss: 0.0086 - accuracy: 0.9974 - val_loss: 0.2457 - val_accuracy: 0.9695\n",
            "Epoch 42/100\n",
            "1500/1500 [==============================] - 5s 3ms/step - loss: 0.0063 - accuracy: 0.9980 - val_loss: 0.2382 - val_accuracy: 0.9719\n",
            "Epoch 43/100\n",
            "1500/1500 [==============================] - 5s 3ms/step - loss: 0.0070 - accuracy: 0.9978 - val_loss: 0.2939 - val_accuracy: 0.9654\n",
            "Epoch 44/100\n",
            "1500/1500 [==============================] - 5s 3ms/step - loss: 0.0046 - accuracy: 0.9984 - val_loss: 0.2388 - val_accuracy: 0.9709\n",
            "Epoch 45/100\n",
            "1500/1500 [==============================] - 5s 3ms/step - loss: 0.0081 - accuracy: 0.9974 - val_loss: 0.2519 - val_accuracy: 0.9707\n",
            "Epoch 46/100\n",
            "1500/1500 [==============================] - 5s 3ms/step - loss: 0.0063 - accuracy: 0.9978 - val_loss: 0.2589 - val_accuracy: 0.9722\n",
            "Epoch 47/100\n",
            "1500/1500 [==============================] - 4s 3ms/step - loss: 0.0063 - accuracy: 0.9979 - val_loss: 0.2359 - val_accuracy: 0.9715\n",
            "Epoch 48/100\n",
            "1500/1500 [==============================] - 5s 3ms/step - loss: 0.0057 - accuracy: 0.9983 - val_loss: 0.2608 - val_accuracy: 0.9703\n",
            "Epoch 49/100\n",
            "1500/1500 [==============================] - 5s 3ms/step - loss: 0.0084 - accuracy: 0.9973 - val_loss: 0.2836 - val_accuracy: 0.9685\n",
            "Epoch 50/100\n",
            "1500/1500 [==============================] - 5s 3ms/step - loss: 0.0038 - accuracy: 0.9989 - val_loss: 0.2520 - val_accuracy: 0.9742\n",
            "Epoch 51/100\n",
            "1500/1500 [==============================] - 5s 3ms/step - loss: 0.0096 - accuracy: 0.9969 - val_loss: 0.2467 - val_accuracy: 0.9734\n",
            "Epoch 52/100\n",
            "1500/1500 [==============================] - 5s 3ms/step - loss: 0.0052 - accuracy: 0.9983 - val_loss: 0.2508 - val_accuracy: 0.9743\n",
            "Epoch 53/100\n",
            "1500/1500 [==============================] - 5s 3ms/step - loss: 0.0076 - accuracy: 0.9976 - val_loss: 0.2387 - val_accuracy: 0.9753\n",
            "Epoch 54/100\n",
            "1500/1500 [==============================] - 5s 3ms/step - loss: 0.0050 - accuracy: 0.9982 - val_loss: 0.2704 - val_accuracy: 0.9716\n",
            "Epoch 55/100\n",
            "1500/1500 [==============================] - 5s 3ms/step - loss: 0.0055 - accuracy: 0.9983 - val_loss: 0.2783 - val_accuracy: 0.9704\n",
            "Epoch 56/100\n",
            "1500/1500 [==============================] - 5s 3ms/step - loss: 0.0060 - accuracy: 0.9981 - val_loss: 0.2410 - val_accuracy: 0.9762\n",
            "Epoch 57/100\n",
            "1500/1500 [==============================] - 5s 3ms/step - loss: 0.0064 - accuracy: 0.9981 - val_loss: 0.3013 - val_accuracy: 0.9710\n",
            "Epoch 58/100\n",
            "1500/1500 [==============================] - 5s 3ms/step - loss: 0.0062 - accuracy: 0.9982 - val_loss: 0.2765 - val_accuracy: 0.9728\n",
            "Epoch 59/100\n",
            "1500/1500 [==============================] - 4s 3ms/step - loss: 0.0067 - accuracy: 0.9979 - val_loss: 0.2742 - val_accuracy: 0.9724\n",
            "Epoch 60/100\n",
            "1500/1500 [==============================] - 5s 3ms/step - loss: 0.0055 - accuracy: 0.9983 - val_loss: 0.2508 - val_accuracy: 0.9743\n",
            "Epoch 61/100\n",
            "1500/1500 [==============================] - 5s 3ms/step - loss: 0.0065 - accuracy: 0.9980 - val_loss: 0.3035 - val_accuracy: 0.9708\n",
            "Epoch 62/100\n",
            "1500/1500 [==============================] - 5s 3ms/step - loss: 0.0067 - accuracy: 0.9978 - val_loss: 0.2858 - val_accuracy: 0.9723\n",
            "Epoch 63/100\n",
            "1500/1500 [==============================] - 5s 3ms/step - loss: 0.0067 - accuracy: 0.9981 - val_loss: 0.2766 - val_accuracy: 0.9733\n",
            "Epoch 64/100\n",
            "1500/1500 [==============================] - 5s 3ms/step - loss: 0.0054 - accuracy: 0.9983 - val_loss: 0.2616 - val_accuracy: 0.9753\n",
            "Epoch 65/100\n",
            "1500/1500 [==============================] - 5s 3ms/step - loss: 0.0039 - accuracy: 0.9988 - val_loss: 0.2846 - val_accuracy: 0.9732\n",
            "Epoch 66/100\n",
            "1500/1500 [==============================] - 5s 3ms/step - loss: 0.0070 - accuracy: 0.9978 - val_loss: 0.2924 - val_accuracy: 0.9742\n",
            "Epoch 67/100\n",
            "1500/1500 [==============================] - 5s 3ms/step - loss: 0.0045 - accuracy: 0.9988 - val_loss: 0.2844 - val_accuracy: 0.9737\n",
            "Epoch 68/100\n",
            "1500/1500 [==============================] - 5s 3ms/step - loss: 0.0029 - accuracy: 0.9992 - val_loss: 0.2728 - val_accuracy: 0.9726\n",
            "Epoch 69/100\n",
            "1500/1500 [==============================] - 5s 3ms/step - loss: 0.0067 - accuracy: 0.9980 - val_loss: 0.3249 - val_accuracy: 0.9690\n",
            "Epoch 70/100\n",
            "1500/1500 [==============================] - 5s 3ms/step - loss: 0.0054 - accuracy: 0.9983 - val_loss: 0.2819 - val_accuracy: 0.9734\n",
            "Epoch 71/100\n",
            "1500/1500 [==============================] - 5s 3ms/step - loss: 0.0060 - accuracy: 0.9983 - val_loss: 0.2643 - val_accuracy: 0.9753\n",
            "Epoch 72/100\n",
            "1500/1500 [==============================] - 5s 3ms/step - loss: 0.0056 - accuracy: 0.9984 - val_loss: 0.2829 - val_accuracy: 0.9739\n",
            "Epoch 73/100\n",
            "1500/1500 [==============================] - 5s 3ms/step - loss: 0.0067 - accuracy: 0.9982 - val_loss: 0.3036 - val_accuracy: 0.9733\n",
            "Epoch 74/100\n",
            "1500/1500 [==============================] - 5s 3ms/step - loss: 0.0049 - accuracy: 0.9986 - val_loss: 0.2929 - val_accuracy: 0.9724\n",
            "Epoch 75/100\n",
            "1500/1500 [==============================] - 5s 3ms/step - loss: 0.0047 - accuracy: 0.9986 - val_loss: 0.2820 - val_accuracy: 0.9741\n",
            "Epoch 76/100\n",
            "1500/1500 [==============================] - 5s 3ms/step - loss: 0.0039 - accuracy: 0.9988 - val_loss: 0.2892 - val_accuracy: 0.9743\n",
            "Epoch 77/100\n",
            "1500/1500 [==============================] - 5s 3ms/step - loss: 0.0079 - accuracy: 0.9979 - val_loss: 0.3207 - val_accuracy: 0.9695\n",
            "Epoch 78/100\n",
            "1500/1500 [==============================] - 5s 3ms/step - loss: 0.0031 - accuracy: 0.9989 - val_loss: 0.3032 - val_accuracy: 0.9732\n",
            "Epoch 79/100\n",
            "1500/1500 [==============================] - 5s 3ms/step - loss: 0.0060 - accuracy: 0.9983 - val_loss: 0.3033 - val_accuracy: 0.9737\n",
            "Epoch 80/100\n",
            "1500/1500 [==============================] - 5s 3ms/step - loss: 0.0056 - accuracy: 0.9985 - val_loss: 0.3280 - val_accuracy: 0.9718\n",
            "Epoch 81/100\n",
            "1500/1500 [==============================] - 5s 3ms/step - loss: 0.0067 - accuracy: 0.9987 - val_loss: 0.2942 - val_accuracy: 0.9743\n",
            "Epoch 82/100\n",
            "1500/1500 [==============================] - 5s 3ms/step - loss: 0.0017 - accuracy: 0.9994 - val_loss: 0.2931 - val_accuracy: 0.9745\n",
            "Epoch 83/100\n",
            "1500/1500 [==============================] - 5s 3ms/step - loss: 0.0071 - accuracy: 0.9980 - val_loss: 0.2960 - val_accuracy: 0.9727\n",
            "Epoch 84/100\n",
            "1500/1500 [==============================] - 5s 3ms/step - loss: 0.0041 - accuracy: 0.9987 - val_loss: 0.3404 - val_accuracy: 0.9726\n",
            "Epoch 85/100\n",
            "1500/1500 [==============================] - 5s 3ms/step - loss: 0.0061 - accuracy: 0.9982 - val_loss: 0.3020 - val_accuracy: 0.9749\n",
            "Epoch 86/100\n",
            "1500/1500 [==============================] - 5s 3ms/step - loss: 0.0034 - accuracy: 0.9988 - val_loss: 0.3133 - val_accuracy: 0.9744\n",
            "Epoch 87/100\n",
            "1500/1500 [==============================] - 5s 3ms/step - loss: 0.0042 - accuracy: 0.9986 - val_loss: 0.3229 - val_accuracy: 0.9747\n",
            "Epoch 88/100\n",
            "1500/1500 [==============================] - 5s 3ms/step - loss: 0.0063 - accuracy: 0.9984 - val_loss: 0.3565 - val_accuracy: 0.9712\n",
            "Epoch 89/100\n",
            "1500/1500 [==============================] - 5s 3ms/step - loss: 0.0081 - accuracy: 0.9979 - val_loss: 0.3341 - val_accuracy: 0.9743\n",
            "Epoch 90/100\n",
            "1500/1500 [==============================] - 5s 3ms/step - loss: 0.0030 - accuracy: 0.9991 - val_loss: 0.3325 - val_accuracy: 0.9747\n",
            "Epoch 91/100\n",
            "1500/1500 [==============================] - 5s 3ms/step - loss: 0.0060 - accuracy: 0.9984 - val_loss: 0.3321 - val_accuracy: 0.9732\n",
            "Epoch 92/100\n",
            "1500/1500 [==============================] - 5s 3ms/step - loss: 0.0054 - accuracy: 0.9986 - val_loss: 0.3155 - val_accuracy: 0.9752\n",
            "Epoch 93/100\n",
            "1500/1500 [==============================] - 5s 3ms/step - loss: 0.0054 - accuracy: 0.9986 - val_loss: 0.3335 - val_accuracy: 0.9726\n",
            "Epoch 94/100\n",
            "1500/1500 [==============================] - 5s 3ms/step - loss: 0.0039 - accuracy: 0.9990 - val_loss: 0.3233 - val_accuracy: 0.9739\n",
            "Epoch 95/100\n",
            "1500/1500 [==============================] - 5s 3ms/step - loss: 0.0068 - accuracy: 0.9981 - val_loss: 0.3716 - val_accuracy: 0.9718\n",
            "Epoch 96/100\n",
            "1500/1500 [==============================] - 5s 3ms/step - loss: 0.0017 - accuracy: 0.9994 - val_loss: 0.3344 - val_accuracy: 0.9725\n",
            "Epoch 97/100\n",
            "1500/1500 [==============================] - 5s 3ms/step - loss: 0.0071 - accuracy: 0.9983 - val_loss: 0.3704 - val_accuracy: 0.9718\n",
            "Epoch 98/100\n",
            "1500/1500 [==============================] - 5s 3ms/step - loss: 0.0038 - accuracy: 0.9989 - val_loss: 0.3741 - val_accuracy: 0.9729\n",
            "Epoch 99/100\n",
            "1500/1500 [==============================] - 5s 3ms/step - loss: 0.0061 - accuracy: 0.9983 - val_loss: 0.3477 - val_accuracy: 0.9734\n",
            "Epoch 100/100\n",
            "1500/1500 [==============================] - 5s 3ms/step - loss: 0.0046 - accuracy: 0.9989 - val_loss: 0.3509 - val_accuracy: 0.9740\n"
          ],
          "name": "stdout"
        }
      ]
    },
    {
      "cell_type": "markdown",
      "metadata": {
        "id": "E2pcI4oMn7Ux"
      },
      "source": [
        "이로서 현재 학습 과정 중 가장 낮은 검증셋의 손실값을 가진 모델이 \"best_model.h5\" 파일로 저장되었습니다."
      ]
    },
    {
      "cell_type": "markdown",
      "metadata": {
        "id": "2FGSGDMLn7Ux"
      },
      "source": [
        "파일로 저장된 모델을 로딩하여 시험셋으로 최종 평가를 수행합니다."
      ]
    },
    {
      "cell_type": "code",
      "metadata": {
        "colab": {
          "base_uri": "https://localhost:8080/"
        },
        "id": "7dR4v-GuwCuG",
        "outputId": "a82e4478-379f-43f6-912b-0c423fd45398"
      },
      "source": [
        "model = load_model(\"best_model.h5\")\n",
        "\n",
        "test_loss, test_acc = model.evaluate(x_test, y_test)\n",
        "\n",
        "print(\"Test accuracy\", test_acc)\n",
        "print(\"Test loss\", test_loss)"
      ],
      "execution_count": 13,
      "outputs": [
        {
          "output_type": "stream",
          "text": [
            "313/313 [==============================] - 1s 3ms/step - loss: 0.0931 - accuracy: 0.9736\n",
            "Test accuracy 0.9735999703407288\n",
            "Test loss 0.09307339787483215\n"
          ],
          "name": "stdout"
        }
      ]
    },
    {
      "cell_type": "markdown",
      "metadata": {
        "id": "gPwlKPzqZmOu"
      },
      "source": [
        "또한 시험셋으로 테스트한 결과를 제출하기 위해 모델 결과 파일을 저장합니다. 출력이 10개 클래스에 해당하는 벡터이므로, 분류한 클래스 정보를 얻기 위해 가장 높은 값을 가진 인덱스 값을 가지고 옵니다. 이 인덱스가 클래스를 의미하며, 이 값을 파일로 저장합니다."
      ]
    },
    {
      "cell_type": "code",
      "metadata": {
        "id": "REvi-WpIZuKx"
      },
      "source": [
        "y_pred = model.predict(x_test)\n",
        "y_pred = y_pred.argmax(axis=-1)\n",
        "np.savetxt('y_pred.csv', y_pred, fmt='%d')"
      ],
      "execution_count": 14,
      "outputs": []
    }
  ]
}